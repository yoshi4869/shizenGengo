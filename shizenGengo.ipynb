{
  "nbformat": 4,
  "nbformat_minor": 0,
  "metadata": {
    "colab": {
      "name": "shizenGengo.ipynb",
      "provenance": [],
      "authorship_tag": "ABX9TyMQDv5b1ft/i/anTsgBa4J9",
      "include_colab_link": true
    },
    "kernelspec": {
      "name": "python3",
      "display_name": "Python 3"
    },
    "language_info": {
      "name": "python"
    }
  },
  "cells": [
    {
      "cell_type": "markdown",
      "metadata": {
        "id": "view-in-github",
        "colab_type": "text"
      },
      "source": [
        "<a href=\"https://colab.research.google.com/github/yoshi4869/shizenGengo/blob/main/shizenGengo.ipynb\" target=\"_parent\"><img src=\"https://colab.research.google.com/assets/colab-badge.svg\" alt=\"Open In Colab\"/></a>"
      ]
    },
    {
      "cell_type": "code",
      "execution_count": null,
      "metadata": {
        "id": "Rp9vyJ4OOPLj",
        "colab": {
          "base_uri": "https://localhost:8080/"
        },
        "outputId": "f56a2913-eed4-4182-faf8-c30345ad7fcb"
      },
      "outputs": [
        {
          "output_type": "stream",
          "name": "stdout",
          "text": [
            "Requirement already satisfied: janome==0.4.1 in /usr/local/lib/python3.7/dist-packages (0.4.1)\n",
            "肉\t名詞,一般,*,*,*,*,肉,ニク,ニク\n",
            "を\t助詞,格助詞,一般,*,*,*,を,ヲ,ヲ\n",
            "食べよ\t動詞,自立,*,*,一段,未然ウ接続,食べる,タベヨ,タベヨ\n",
            "う\t助動詞,*,*,*,不変化型,基本形,う,ウ,ウ\n",
            "！\t記号,一般,*,*,*,*,！,！,！\n"
          ]
        }
      ],
      "source": [
        "!pip install janome==0.4.1\n",
        "from janome.tokenizer import Tokenizer\n",
        "#Tokenizerインスタンスの生成\n",
        "tokenizer = Tokenizer()\n",
        "#形態素解析の実施\n",
        "tokens = tokenizer.tokenize(\"肉を食べよう！\")\n",
        "#解析結果の出力：複数の結果が入っておりループ処理で順番に出す\n",
        "for token in tokens:\n",
        "  print(token)"
      ]
    },
    {
      "cell_type": "code",
      "source": [
        "!pip install janome==0.4.1\n",
        "from janome.tokenizer import Tokenizer\n",
        "#Tokenizerインスタンスの生成\n",
        "tokenizer = Tokenizer()\n",
        "#形態素解析の実施\n",
        "tokens = tokenizer.tokenize(\"俺は人間をやめるぞジョジョー！！\")\n",
        "#tokens = tokenizer.tokenize(\"肉を食べよう！\")\n",
        "\n",
        "#解析結果の出力：複数の結果が入っておりループ処理で順番に出す\n",
        "for token in tokens:\n",
        "  print(token)\n",
        "  #print(token.surface)\n",
        "  print(token.reading)\n",
        "  print(token.base_form)\n",
        "  print(token.part_of_speech)\n",
        "  print(token.part_of_speech.split(','))\n",
        "  print(token.part_of_speech.split('.')[0])\n",
        "  print(\"-----\")"
      ],
      "metadata": {
        "colab": {
          "base_uri": "https://localhost:8080/"
        },
        "id": "VXSrZSI7kX4k",
        "outputId": "7329f3c0-46fd-475e-c213-b96f5d7437b2"
      },
      "execution_count": null,
      "outputs": [
        {
          "output_type": "stream",
          "name": "stdout",
          "text": [
            "Requirement already satisfied: janome==0.4.1 in /usr/local/lib/python3.7/dist-packages (0.4.1)\n",
            "俺\t名詞,代名詞,一般,*,*,*,俺,オレ,オレ\n",
            "オレ\n",
            "俺\n",
            "名詞,代名詞,一般,*\n",
            "['名詞', '代名詞', '一般', '*']\n",
            "名詞,代名詞,一般,*\n",
            "-----\n",
            "は\t助詞,係助詞,*,*,*,*,は,ハ,ワ\n",
            "ハ\n",
            "は\n",
            "助詞,係助詞,*,*\n",
            "['助詞', '係助詞', '*', '*']\n",
            "助詞,係助詞,*,*\n",
            "-----\n",
            "人間\t名詞,一般,*,*,*,*,人間,ニンゲン,ニンゲン\n",
            "ニンゲン\n",
            "人間\n",
            "名詞,一般,*,*\n",
            "['名詞', '一般', '*', '*']\n",
            "名詞,一般,*,*\n",
            "-----\n",
            "を\t助詞,格助詞,一般,*,*,*,を,ヲ,ヲ\n",
            "ヲ\n",
            "を\n",
            "助詞,格助詞,一般,*\n",
            "['助詞', '格助詞', '一般', '*']\n",
            "助詞,格助詞,一般,*\n",
            "-----\n",
            "やめる\t動詞,自立,*,*,一段,基本形,やめる,ヤメル,ヤメル\n",
            "ヤメル\n",
            "やめる\n",
            "動詞,自立,*,*\n",
            "['動詞', '自立', '*', '*']\n",
            "動詞,自立,*,*\n",
            "-----\n",
            "ぞ\t助詞,終助詞,*,*,*,*,ぞ,ゾ,ゾ\n",
            "ゾ\n",
            "ぞ\n",
            "助詞,終助詞,*,*\n",
            "['助詞', '終助詞', '*', '*']\n",
            "助詞,終助詞,*,*\n",
            "-----\n",
            "ジョジョー\t名詞,一般,*,*,*,*,ジョジョー,*,*\n",
            "*\n",
            "ジョジョー\n",
            "名詞,一般,*,*\n",
            "['名詞', '一般', '*', '*']\n",
            "名詞,一般,*,*\n",
            "-----\n",
            "！\t記号,一般,*,*,*,*,！,！,！\n",
            "！\n",
            "！\n",
            "記号,一般,*,*\n",
            "['記号', '一般', '*', '*']\n",
            "記号,一般,*,*\n",
            "-----\n",
            "！\t記号,一般,*,*,*,*,！,！,！\n",
            "！\n",
            "！\n",
            "記号,一般,*,*\n",
            "['記号', '一般', '*', '*']\n",
            "記号,一般,*,*\n",
            "-----\n"
          ]
        }
      ]
    },
    {
      "cell_type": "code",
      "source": [
        "!pip install janome==0.4.1\n",
        "from janome.tokenizer import Tokenizer\n",
        "#Tokenizerインスタンスの生成\n",
        "tokenizer = Tokenizer()\n",
        "#形態素解析の実施\n",
        "tokens = tokenizer.tokenize(\"これでみんなで原始人。肉を食べよう！\")\n",
        "#tokens = tokenizer.tokenize(\"肉を食べよう！\")\n",
        "\n",
        "def token2gensigo(input_token):\n",
        "  if input_token.part_of_speech.split(',')[0] == \"助詞\":\n",
        "    return \"\"\n",
        "  else:\n",
        "    return input_token.reading\n",
        "\n",
        "result_str = \"\"\n",
        "for token in tokens:\n",
        "  result_str += token2gensigo(token) + \" \"\n",
        "\n",
        "print(result_str)\n"
      ],
      "metadata": {
        "colab": {
          "base_uri": "https://localhost:8080/"
        },
        "id": "afRbdAWSlxKa",
        "outputId": "4e384436-66a0-4376-cb0f-933bd4c66b24"
      },
      "execution_count": null,
      "outputs": [
        {
          "output_type": "stream",
          "name": "stdout",
          "text": [
            "Requirement already satisfied: janome==0.4.1 in /usr/local/lib/python3.7/dist-packages (0.4.1)\n",
            "コレ  ミンナ  ゲンシ ジン 。 ニク  タベヨ ウ ！ \n"
          ]
        }
      ]
    },
    {
      "cell_type": "code",
      "source": [
        "#!pip install janome==0.4.1\n",
        "from janome.tokenizer import Tokenizer\n",
        "#Tokenizerインスタンスの生成\n",
        "tokenizer = Tokenizer()\n",
        "\n",
        "def nihongo2genshigo(input_str):\n",
        "# 形態素解析の実施\n",
        "  tokens = tokenizer.tokenize(input_str)\n",
        "  result_str = \"\"\n",
        "  for token in tokens:\n",
        "    result_str += token2gensigo(token) + \" \"\n",
        "  return result_str\n",
        "\n",
        "# tokenが助詞の場合は空文字列、それ以外はヨミガナを返す関数\n",
        "def token2gensigo(input_token):\n",
        "  if input_token.part_of_speech.split(',')[0] == \"助詞\":\n",
        "    return \"\"\n",
        "  else:\n",
        "    return input_token.reading\n",
        "\n",
        "print(nihongo2genshigo(\"これで今日からみんな原始人になる\"))\n",
        "print(nihongo2genshigo(\"人民の人民による人民のための政治\"))\n",
        "print(nihongo2genshigo(\"大いなる力には大いなる責任が伴う\"))"
      ],
      "metadata": {
        "id": "B6yimxaam4n5",
        "colab": {
          "base_uri": "https://localhost:8080/"
        },
        "outputId": "2c966ce4-a18d-4aed-a8b1-2374fc0818f0"
      },
      "execution_count": null,
      "outputs": [
        {
          "output_type": "stream",
          "name": "stdout",
          "text": [
            "コレ  キョウ  ミンナ ゲンシ ジン  ナル \n",
            "ジンミン  ジンミン  ジンミン  タメ  セイジ \n",
            "オオイナル チカラ   オオイナル セキニン  トモナウ \n"
          ]
        }
      ]
    },
    {
      "cell_type": "code",
      "source": [
        "x = input(\"文字を入力してみよう\")\n",
        "print(2 * x) "
      ],
      "metadata": {
        "colab": {
          "base_uri": "https://localhost:8080/"
        },
        "id": "r9mzAr7fDJ0r",
        "outputId": "c37bf7b6-fecd-4669-c933-bf54cf738a07"
      },
      "execution_count": null,
      "outputs": [
        {
          "output_type": "stream",
          "name": "stdout",
          "text": [
            "文字を入力してみよう44\n",
            "4444\n"
          ]
        }
      ]
    },
    {
      "cell_type": "code",
      "source": [
        "#文字入力してゲンシ語にする\n",
        "#!pip install janome==0.4.1\n",
        "from janome.tokenizer import Tokenizer\n",
        "#Tokenizerインスタンスの生成\n",
        "tokenizer = Tokenizer()\n",
        "\n",
        "def nihongo2genshigo(input_str):\n",
        "# 形態素解析の実施\n",
        "  tokens = tokenizer.tokenize(input_str)\n",
        "  result_str = \"\"\n",
        "  for token in tokens:\n",
        "    result_str += token2gensigo(token) + \" \"\n",
        "  return result_str\n",
        "\n",
        "# tokenが助詞の場合は空文字列、それ以外はヨミガナを返す関数\n",
        "def token2gensigo(input_token):\n",
        "  if input_token.part_of_speech.split(',')[0] == \"助詞\":\n",
        "    return \"\"\n",
        "  else:\n",
        "    return input_token.reading\n",
        "# 文字を打って入力する\n",
        "input_str = input(\"オマエ モジ ニュウリョク スル\\n >>\")\n",
        "print(nihongo2genshigo(input_str))\n"
      ],
      "metadata": {
        "colab": {
          "base_uri": "https://localhost:8080/"
        },
        "id": "VEj-jQtiEVL3",
        "outputId": "d91053cd-55ad-481b-cba6-2489e7aea2c2"
      },
      "execution_count": null,
      "outputs": [
        {
          "output_type": "stream",
          "name": "stdout",
          "text": [
            "オマエ モジ ニュウリョク スル\n",
            " >>俺は人間をやめるぞ\n",
            "オレ  ニンゲン  ヤメル  \n"
          ]
        }
      ]
    },
    {
      "cell_type": "code",
      "source": [
        "def hira_to_kana(input_str):\n",
        "  return \"\".join([chr(ord(ch) + 96) if (\"あ\" <= ch <= \"ん\") else ch for ch in input_str])\n",
        "\n",
        "print(hira_to_kana(\"ここに入れた文章のひらがなをカタカナに変えるよ\"))\n"
      ],
      "metadata": {
        "colab": {
          "base_uri": "https://localhost:8080/"
        },
        "id": "OBc881imGNlA",
        "outputId": "446b5558-b356-4106-fd8c-63aa96ea5749"
      },
      "execution_count": null,
      "outputs": [
        {
          "output_type": "stream",
          "name": "stdout",
          "text": [
            "ココニ入レタ文章ノヒラガナヲカタカナニ変エルヨ\n"
          ]
        }
      ]
    },
    {
      "cell_type": "code",
      "source": [
        "#文字入力して魏延語にする\n",
        "#!pip install janome==0.4.1\n",
        "from janome.tokenizer import Tokenizer\n",
        "#Tokenizerインスタンスの生成\n",
        "tokenizer = Tokenizer()\n",
        "\n",
        "# 日本語を魏延語にする関数\n",
        "def nihongo2giengo(input_str):\n",
        "# 形態素解析の実施\n",
        "  tokens = tokenizer.tokenize(input_str)\n",
        "  result_str = \"\"\n",
        "  for token in tokens:\n",
        "    result_str += token2giengo(token) + \" \"\n",
        "  return result_str\n",
        "# ひらがなをカタカナに直す関数\n",
        "def hira_to_kana(input_str):\n",
        "  return \"\".join([chr(ord(ch) + 96) if (\"あ\" <= ch <= \"ん\") else ch for ch in input_str])\n",
        "\n",
        "# tokenが助詞の場合は空文字列、それ以外はもとの単語のひらがなをカタカナにする関数\n",
        "def token2giengo(input_token):\n",
        "  if input_token.part_of_speech.split(',')[0] == \"助詞\":\n",
        "    return \"\"\n",
        "  else:\n",
        "    # 「ひらがな」を「カタカナ」に変える関数をもとの単語に適用\n",
        "    return hira_to_kana(input_token.surface)\n",
        "\n",
        "# 文字を打って入力する\n",
        "input_str = input(\"魏延と話そう\\n >>\")\n",
        "print(nihongo2giengo(input_str))"
      ],
      "metadata": {
        "colab": {
          "base_uri": "https://localhost:8080/"
        },
        "id": "pHvbPL6vGzHD",
        "outputId": "025ca73c-41ab-4df3-dfbe-c4a59264ee02"
      },
      "execution_count": null,
      "outputs": [
        {
          "output_type": "stream",
          "name": "stdout",
          "text": [
            "魏延と話そう\n",
            " >>これで今日からみんな原始人になる\n",
            "コレ  今日  ミンナ 原始 人  ナル \n"
          ]
        }
      ]
    },
    {
      "cell_type": "code",
      "source": [
        "#文字入力してミゲル語にする\n",
        "#!pip install janome==0.4.1\n",
        "\n",
        "# ひらがなをカタカナに直す関数\n",
        "def hira_to_kana(input_str):\n",
        "  return \"\".join([chr(ord(ch) + 96) if (\"あ\" <= ch <= \"ん\") else ch for ch in input_str])\n",
        "\n",
        "# 文字を打って入力する\n",
        "input_str = input(\"ミゲルと話そう\\n >>\")\n",
        "print(hira_to_kana(input_str))"
      ],
      "metadata": {
        "colab": {
          "base_uri": "https://localhost:8080/"
        },
        "id": "DNFMFHttJT_W",
        "outputId": "25bde64c-4ff5-4210-9a51-62db9462afd0"
      },
      "execution_count": null,
      "outputs": [
        {
          "output_type": "stream",
          "name": "stdout",
          "text": [
            "ミゲルと話そう\n",
            " >>みんなで遊びましょ\n",
            "ミンナデ遊ビマショ\n"
          ]
        }
      ]
    },
    {
      "cell_type": "code",
      "source": [
        "! curl http://www.cl.ecei.tohoku.ac.jp/resources/sent_lex/pn.csv.m3.120408.trim > pn.csv"
      ],
      "metadata": {
        "colab": {
          "base_uri": "https://localhost:8080/"
        },
        "id": "K0z2GrJuyuw4",
        "outputId": "9976bcf4-3359-41f1-de04-de228d23113f"
      },
      "execution_count": 5,
      "outputs": [
        {
          "output_type": "stream",
          "name": "stdout",
          "text": [
            "  % Total    % Received % Xferd  Average Speed   Time    Time     Time  Current\n",
            "                                 Dload  Upload   Total   Spent    Left  Speed\n",
            "100  676k  100  676k    0     0   422k      0  0:00:01  0:00:01 --:--:--  422k\n"
          ]
        }
      ]
    },
    {
      "cell_type": "code",
      "source": [
        "import csv\n",
        "np_dic = {}\n",
        "# utf-8の文字コードを指定してファイルを開く\n",
        "fp = open(\"pn.csv\",\"rt\",encoding=\"utf-8\")\n",
        "# タブ区切り形式でcsvデータを読む\n",
        "reader = csv.reader(fp, delimiter='\\t')\n",
        "# 各行ごとに処理を行う\n",
        "for i, row in enumerate(reader):\n",
        "  # 行ごとのデータは以下の形式であり、\n",
        "  # 愛情 p ～がある・高まる(存在・性質)\n",
        "  # 冒頭の見出し語をnameに、\n",
        "  # 次のp or n or eなどをresultに格納\n",
        "  name = row[0]\n",
        "  result = row[1]\n",
        "  np_dic[name] = result\n",
        "  if i % 1000 == 0: print(i)\n",
        "print(\"OK\")\n"
      ],
      "metadata": {
        "colab": {
          "base_uri": "https://localhost:8080/"
        },
        "id": "42EjIg2wzAsa",
        "outputId": "a3f2ba5e-8cf4-4218-e23e-93a4f62b04dc"
      },
      "execution_count": 6,
      "outputs": [
        {
          "output_type": "stream",
          "name": "stdout",
          "text": [
            "0\n",
            "1000\n",
            "2000\n",
            "3000\n",
            "4000\n",
            "5000\n",
            "6000\n",
            "7000\n",
            "8000\n",
            "9000\n",
            "10000\n",
            "11000\n",
            "12000\n",
            "13000\n",
            "OK\n"
          ]
        }
      ]
    },
    {
      "cell_type": "code",
      "source": [
        "print(np_dic[\"激怒\"])"
      ],
      "metadata": {
        "colab": {
          "base_uri": "https://localhost:8080/"
        },
        "id": "ISoqG63_0LOx",
        "outputId": "801e6522-a6cd-4847-f9dc-f01188d94084"
      },
      "execution_count": 7,
      "outputs": [
        {
          "output_type": "stream",
          "name": "stdout",
          "text": [
            "n\n"
          ]
        }
      ]
    },
    {
      "cell_type": "code",
      "source": [
        "!pip install janome"
      ],
      "metadata": {
        "colab": {
          "base_uri": "https://localhost:8080/"
        },
        "id": "2Xn-SCRC0vKQ",
        "outputId": "87e4278a-fd1c-45a2-cb5f-a5001edf3b9a"
      },
      "execution_count": 13,
      "outputs": [
        {
          "output_type": "stream",
          "name": "stdout",
          "text": [
            "Requirement already satisfied: janome in /usr/local/lib/python3.7/dist-packages (0.4.2)\n"
          ]
        }
      ]
    },
    {
      "cell_type": "code",
      "source": [
        "from janome.tokenizer import Tokenizer\n",
        "tokenizer = Tokenizer()\n",
        "\n",
        "def np_rate(input_str):\n",
        "  pos_count = 0\n",
        "  neg_count = 0\n",
        "  word_count = 0\n",
        "  tokens = tokenizer.tokenize(input_str)\n",
        "  for token in tokens:\n",
        "    base_form = token.base_form\n",
        "    if base_form in np_dic:\n",
        "      if np_dic[base_form] == \"p\":\n",
        "        pos_count += 1\n",
        "        print(\"POS:\" + base_form)\n",
        "      if np_dic[base_form] == \"n\":\n",
        "        neg_count += 1\n",
        "        print(\"NEG:\" + base_form)\n",
        "    word_count += 1\n",
        "  return pos_count, neg_count, word_count\n",
        "  \n",
        "print(np_rate(\"メロスは激怒した。必ず、かの邪智暴虐の王を除かなければならぬと決意した。\"))\n"
      ],
      "metadata": {
        "colab": {
          "base_uri": "https://localhost:8080/"
        },
        "id": "9OkgPJYa1lHp",
        "outputId": "8c06f403-0a98-45ad-beba-b8b09956184a"
      },
      "execution_count": 18,
      "outputs": [
        {
          "output_type": "stream",
          "name": "stdout",
          "text": [
            "NEG:激怒\n",
            "NEG:暴虐\n",
            "(0, 2, 24)\n"
          ]
        }
      ]
    },
    {
      "cell_type": "code",
      "source": [
        "# 青空文庫からのダウンロード＆加工用共通コード\n",
        "import re\n",
        "import zipfile\n",
        "import urllib.request\n",
        "import os.path,glob\n",
        "\n",
        "def get_flat_text_from_aozora(zip_url):\n",
        "  zip_file_name = re.split(r'/', zip_url)[-1]\n",
        "  print(zip_file_name)\n",
        "\n",
        "  if not os.path.exists(zip_file_name):\n",
        "    print('Download URL = ', zip_url)\n",
        "    data = urllib.request.urlopen(zip_url).read()\n",
        "    with open(zip_file_name, mode=\"wb\") as f:\n",
        "      f.write(data)\n",
        "  else:\n",
        "    print('May be already exists')\n",
        "\n",
        "  dir, ext = os.path.splitext(zip_file_name)\n",
        "  if not os.path.exists(dir):\n",
        "    os.makedirs(dir)\n",
        "  unzipped_data = zipfile.ZipFile(zip_file_name, 'r')\n",
        "  unzipped_data.extractall(dir)\n",
        "  unzipped_data.close()\n",
        "\n",
        "  os.remove(zip_file_name)\n",
        "\n",
        "  wild_path = os.path.join(dir, '*.txt')\n",
        "  txt_file_path = glob.glob(wild_path)[0]\n",
        "\n",
        "  print(txt_file_path)\n",
        "  birnary_data = open(txt_file_path, 'rb').read()\n",
        "  main_text = birnary_data.decode('shift_jis')\n",
        "  return main_text\n",
        "\n",
        "!wget http://x0213.org/codetable/jisx0213-2004-std.txt\n",
        "\n",
        "import re\n",
        "\n",
        "with open('jisx0213-2004-std.txt') as f:\n",
        "  ms = (re.match(r'(\\d-\\w{4})\\s+U\\+(\\w{4,5})',l) for l in f if l[0] != '#')\n",
        "  gaiji_table = {m[1]: chr(int(m[2], 16)) for m in ms if m}\n",
        "def get_gaiji(s):\n",
        "  m = re.search(r'第(\\d)水準\\d-(\\d{1,2})-(\\d{1,2})',s)\n",
        "  if m:\n",
        "    key = f'{m[1]}-{int(m[2])+32:2X}{int(m[3])+32:2X}'\n",
        "    return gaiji_table.get(key, s)\n",
        "  m = re.search(r'U\\+(\\w{4})',s)\n",
        "  if m:\n",
        "    return chr(int(m[1], 16))\n",
        "  m = re.search(r'.*?(\\d)-(\\d{1,2})-(^d{1,2})',s)\n",
        "  if m:\n",
        "    key = f'{int(m[1])+2}-{int(m[2])+32:2X}{int(m[3])+32:2X}'\n",
        "    return gaiji_table.get(key,s)\n",
        "  return s\n",
        "\n",
        "def flatten_aozora(text):\n",
        "  text = re.sub(r'※[#.+?]',lambda m: get_gaiji(m[0]), text)\n",
        "\n",
        "  text = re.split(r'\\-{5,}', text)[2]\n",
        "  text = re.split(r'底本:',text)[0]\n",
        "  text = re.sub(r'<.+?>', '', text)\n",
        "  text = re.sub(r'[#.+?]', '', text)\n",
        "  text = text.strip()\n",
        "  return text\n",
        "\n",
        "import time\n",
        "def get_all_flat_text_from_zip_list(zip_list):\n",
        "  all_flat_text = \"\"\n",
        "  for zip_url in zip_list:\n",
        "    try:\n",
        "      aozora_dl_text = get_flat_text_from_aozora(zip_url)\n",
        "      flat_text = flatten_aozora(aozora_dl_text)\n",
        "\n",
        "      all_flat_text += flat_text + (\"\\n\")\n",
        "      print(zip_url+\" ： 取得＆加工完了\")\n",
        "    except:\n",
        "      import traceback\n",
        "      traceback.print_exc()\n",
        "      print(zip_url+\" ：取得or解凍エラーのためスキップ\")\n",
        "    time.sleep(1)\n",
        "\n",
        "  return all_flat_text\n",
        "\n"
      ],
      "metadata": {
        "colab": {
          "base_uri": "https://localhost:8080/"
        },
        "id": "Q7g-OmjF4i0i",
        "outputId": "4627e7cb-bc45-44c9-a791-63150f604e3c"
      },
      "execution_count": 35,
      "outputs": [
        {
          "output_type": "stream",
          "name": "stdout",
          "text": [
            "--2022-04-25 14:11:57--  http://x0213.org/codetable/jisx0213-2004-std.txt\n",
            "Resolving x0213.org (x0213.org)... 59.106.19.103\n",
            "Connecting to x0213.org (x0213.org)|59.106.19.103|:80... connected.\n",
            "HTTP request sent, awaiting response... 200 OK\n",
            "Length: 311997 (305K) [text/plain]\n",
            "Saving to: ‘jisx0213-2004-std.txt.2’\n",
            "\n",
            "jisx0213-2004-std.t 100%[===================>] 304.68K   233KB/s    in 1.3s    \n",
            "\n",
            "2022-04-25 14:11:59 (233 KB/s) - ‘jisx0213-2004-std.txt.2’ saved [311997/311997]\n",
            "\n"
          ]
        }
      ]
    },
    {
      "cell_type": "code",
      "source": [
        "# ダウンロードしたいURLを入力する\n",
        "ZIP_URL = 'https://www.aozora.gr.jp/cards/000363/files/56656_ruby_74439.zip'\n",
        "# 青空文庫からダウンロードする関数を実行\n",
        "aozora_dl_text = get_flat_text_from_aozora(ZIP_URL)\n",
        "\n",
        "# 途中経過を見たい場合以下のコメントを解除\n",
        "# 冒頭1000文字を出力\n",
        "# print(aozora_dl_text[0:1000])\n",
        "\n",
        "# 青空文庫のテキストを加工する関数を実行\n",
        "flat_text = flatten_aozora(aozora_dl_text)\n",
        "\n",
        "# 冒頭1000文字を出力\n",
        "print(flat_text[0:1000])"
      ],
      "metadata": {
        "colab": {
          "base_uri": "https://localhost:8080/"
        },
        "id": "0DMnuaBI27pT",
        "outputId": "d90c8d28-6e9e-4de9-f323-15138e85ccac"
      },
      "execution_count": 36,
      "outputs": [
        {
          "output_type": "stream",
          "name": "stdout",
          "text": [
            "56656_ruby_74439.zip\n",
            "May be already exists\n",
            "56656_ruby_74439/tsumito_batsu.txt\n",
            "［＃２字下げ］第一篇［＃「第一篇」は大見出し］\r\n",
            "\r\n",
            "［＃７字下げ］一［＃「一」は中見出し］\r\n",
            "\r\n",
            "　七月の初め、方図もなく暑い時分の夕方近く、一人の青年が、借家人からまた借りしているＳ横町の小部屋から通りへ出て、なんとなく思い切り悪そうにのろのろと、Ｋ橋の方へ足を向けた。\r\n",
            "　青年はうまく階段でおかみと出くわさないで済んだ。彼の小部屋は、高い五階建の屋根裏にあって、住まいというよりむしろ戸棚に近かった。女中と賄いつきで彼にこの部屋を貸していた下宿のおかみは、一階下の別のアパートに住んでいたので、通りへ出ようと思うと、たいていいつも階段に向かっていっぱいあけっ放しになっているおかみの台所わきを、いやでも通らなければならなかった。そしてそのつど、青年はそばを通り過ぎながら、一種病的な臆病《おくびょう》な気持を感じた。彼は自分でもその気持を恥じて、顔をしかめるのであった。下宿の借金がかさんでいたので、おかみと顔を合わすのがこわかったのである。\r\n",
            "　もっとも、彼はそれほど臆病で、いじけ切っていたわけでなく、むしろその反対なくらいだった。が、いつのころからか、ヒポコンデリイに類したいら立たしい、張りつめた気分になっていた。すっかり自分というものの中に閉じこもり、すべての人から遠ざかっていたので、下宿のおかみのみならず、いっさい人に会うのを恐れていたのである。彼は貧乏におしひしがれていた。けれども、この逼迫《ひっぱく》した状態すらも、このごろ彼はあまり苦にしなくなった。その日その日の当面の仕事も全然｜放擲《ほうてき》してしまい、そんな事にかかずらう気にもならなかったのである。彼は正直なところ、どこのどのようなおかみがいかなる事を企てようと、けっして恐れなどしなかった。けれど、階段の上に立ち止まらされて、なんの役にも立たない平凡なごみごみした話や、うるさい払いの督促や、おどかしや、泣き言などを聞かされた上、自分の方でもごまかしたり、あやまったり、嘘をついたりするよりは――猫のように階段をすべりおりて、誰にも見られないように、ちょろりと姿をくらます方がまだしもなのであった。\r\n",
            "　とはいえ、今度は通りへ出てしまうと、借りのある女に会うのをかくまで恐れているということが、われながらぎょっとするほど彼を驚かした。\r\n",
            "『あれだけの事を断行しようと思っているのに、こんなくだらない事でびくつ\n"
          ]
        }
      ]
    },
    {
      "cell_type": "code",
      "source": [
        ""
      ],
      "metadata": {
        "id": "QgPHJSJ79lin"
      },
      "execution_count": null,
      "outputs": []
    }
  ]
}